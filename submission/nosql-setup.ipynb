{
 "cells": [
  {
   "cell_type": "markdown",
   "metadata": {},
   "source": [
    "# Eat Safe, Love"
   ]
  },
  {
   "cell_type": "markdown",
   "metadata": {},
   "source": [
    "## Part 1: Set Up the Database (and Jupyter Notebook)\n",
    "In terminal, import the data from establishments.json by running the following command: `mongoimport --db uk_food --collection establishments --file resources/establishments.json --jsonArray`"
   ]
  },
  {
   "cell_type": "code",
   "execution_count": 1,
   "metadata": {},
   "outputs": [],
   "source": [
    "from pymongo import MongoClient\n",
    "from pprint import pprint"
   ]
  },
  {
   "cell_type": "code",
   "execution_count": 2,
   "metadata": {},
   "outputs": [],
   "source": [
    "mongo = MongoClient(port=27017)"
   ]
  },
  {
   "cell_type": "code",
   "execution_count": 3,
   "metadata": {},
   "outputs": [
    {
     "data": {
      "text/plain": [
       "['admin', 'config', 'local', 'uk_food']"
      ]
     },
     "execution_count": 3,
     "metadata": {},
     "output_type": "execute_result"
    }
   ],
   "source": [
    "mongo.list_database_names()"
   ]
  },
  {
   "cell_type": "code",
   "execution_count": 4,
   "metadata": {},
   "outputs": [],
   "source": [
    "uk_food_db = mongo[\"uk_food\"]"
   ]
  },
  {
   "cell_type": "code",
   "execution_count": 5,
   "metadata": {},
   "outputs": [
    {
     "data": {
      "text/plain": [
       "['establishments']"
      ]
     },
     "execution_count": 5,
     "metadata": {},
     "output_type": "execute_result"
    }
   ],
   "source": [
    "uk_food_db.list_collection_names()\n"
   ]
  },
  {
   "cell_type": "code",
   "execution_count": 6,
   "metadata": {},
   "outputs": [
    {
     "name": "stdout",
     "output_type": "stream",
     "text": [
      "{'AddressLine1': 'The Bay',\n",
      " 'AddressLine2': 'St Margarets Bay',\n",
      " 'AddressLine3': 'Kent',\n",
      " 'AddressLine4': '',\n",
      " 'BusinessName': 'The Coastguard Inn',\n",
      " 'BusinessType': 'Pub/bar/nightclub',\n",
      " 'BusinessTypeID': 7843,\n",
      " 'ChangesByServerID': 0,\n",
      " 'Distance': 4587.347174863443,\n",
      " 'FHRSID': 1034540,\n",
      " 'LocalAuthorityBusinessID': 'PI/000078691',\n",
      " 'LocalAuthorityCode': '182',\n",
      " 'LocalAuthorityEmailAddress': 'publicprotection@dover.gov.uk',\n",
      " 'LocalAuthorityName': 'Dover',\n",
      " 'LocalAuthorityWebSite': 'http://www.dover.gov.uk/',\n",
      " 'NewRatingPending': False,\n",
      " 'Phone': '',\n",
      " 'PostCode': 'CT15 6DY',\n",
      " 'RatingDate': '2022-08-17T00:00:00',\n",
      " 'RatingKey': 'fhrs_5_en-gb',\n",
      " 'RatingValue': '5',\n",
      " 'RightToReply': '',\n",
      " 'SchemeType': 'FHRS',\n",
      " '_id': ObjectId('6781ac8306ff16b41207e42b'),\n",
      " 'geocode': {'latitude': '51.152225', 'longitude': '1.387974'},\n",
      " 'links': [{'href': 'https://api.ratings.food.gov.uk/establishments/1034540',\n",
      "            'rel': 'self'}],\n",
      " 'meta': {'dataSource': None,\n",
      "          'extractDate': '0001-01-01T00:00:00',\n",
      "          'itemCount': 0,\n",
      "          'pageNumber': 0,\n",
      "          'pageSize': 0,\n",
      "          'returncode': None,\n",
      "          'totalCount': 0,\n",
      "          'totalPages': 0},\n",
      " 'scores': {'ConfidenceInManagement': 0, 'Hygiene': 0, 'Structural': 5}}\n"
     ]
    }
   ],
   "source": [
    "pprint(uk_food_db[\"establishments\"].find_one())"
   ]
  },
  {
   "cell_type": "code",
   "execution_count": 7,
   "metadata": {},
   "outputs": [],
   "source": [
    "uk_food_establishments = uk_food_db[\"establishments\"]"
   ]
  },
  {
   "cell_type": "markdown",
   "metadata": {},
   "source": [
    "## Part 2: Update the Database"
   ]
  },
  {
   "cell_type": "markdown",
   "metadata": {},
   "source": [
    "### Part 2.1: Add the new data"
   ]
  },
  {
   "cell_type": "code",
   "execution_count": 8,
   "metadata": {},
   "outputs": [
    {
     "name": "stdout",
     "output_type": "stream",
     "text": [
      "{'AddressLine1': 'Penang Flavours',\n",
      " 'AddressLine2': '146A Plumstead Rd',\n",
      " 'AddressLine3': 'London',\n",
      " 'AddressLine4': '',\n",
      " 'BusinessName': 'Penang Flavours',\n",
      " 'BusinessType': 'Restaurant/Cafe/Canteen',\n",
      " 'BusinessTypeID': '',\n",
      " 'Distance': 4623.972328074718,\n",
      " 'LocalAuthorityCode': '511',\n",
      " 'LocalAuthorityEmailAddress': 'health@royalgreenwich.gov.uk',\n",
      " 'LocalAuthorityName': 'Greenwich',\n",
      " 'LocalAuthorityWebSite': 'http://www.royalgreenwich.gov.uk',\n",
      " 'NewRatingPending': True,\n",
      " 'Phone': '',\n",
      " 'PostCode': 'SE18 7DY',\n",
      " 'RightToReply': '',\n",
      " 'SchemeType': 'FHRS',\n",
      " '_id': ObjectId('6781ac94c8326444fa81a5c6'),\n",
      " 'geocode': {'latitude': '51.49014200', 'longitude': '0.08384000'},\n",
      " 'scores': {'ConfidenceInManagement': '', 'Hygiene': '', 'Structural': ''}}\n"
     ]
    }
   ],
   "source": [
    "if uk_food_establishments.find_one({\"BusinessName\":\"Penang Flavours\"}):\n",
    "\n",
    "    print(f\"Restaurant with BusinessName 'Penang Flavours' was already in database\")\n",
    "\n",
    "else:\n",
    "\n",
    "    new_restaurant_data = {\n",
    "        \"BusinessName\":\"Penang Flavours\",\n",
    "        \"BusinessType\":\"Restaurant/Cafe/Canteen\",\n",
    "        \"BusinessTypeID\":\"\",\n",
    "        \"AddressLine1\":\"Penang Flavours\",\n",
    "        \"AddressLine2\":\"146A Plumstead Rd\",\n",
    "        \"AddressLine3\":\"London\",\n",
    "        \"AddressLine4\":\"\",\n",
    "        \"PostCode\":\"SE18 7DY\",\n",
    "        \"Phone\":\"\",\n",
    "        \"LocalAuthorityCode\":\"511\",\n",
    "        \"LocalAuthorityName\":\"Greenwich\",\n",
    "        \"LocalAuthorityWebSite\":\"http://www.royalgreenwich.gov.uk\",\n",
    "        \"LocalAuthorityEmailAddress\":\"health@royalgreenwich.gov.uk\",\n",
    "        \"scores\":{\n",
    "            \"Hygiene\":\"\",\n",
    "            \"Structural\":\"\",\n",
    "            \"ConfidenceInManagement\":\"\"\n",
    "        },\n",
    "        \"SchemeType\":\"FHRS\",\n",
    "        \"geocode\":{\n",
    "            \"longitude\":\"0.08384000\",\n",
    "            \"latitude\":\"51.49014200\"\n",
    "        },\n",
    "        \"RightToReply\":\"\",\n",
    "        \"Distance\":4623.9723280747176,\n",
    "        \"NewRatingPending\":True\n",
    "    }\n",
    "\n",
    "    uk_food_establishments.insert_one(new_restaurant_data)\n",
    "    pprint(uk_food_establishments.find_one({\"BusinessName\":\"Penang Flavours\"}))"
   ]
  },
  {
   "cell_type": "markdown",
   "metadata": {},
   "source": [
    "### Part 2.2: Clean the new data"
   ]
  },
  {
   "cell_type": "code",
   "execution_count": 9,
   "metadata": {},
   "outputs": [
    {
     "name": "stdout",
     "output_type": "stream",
     "text": [
      "{'AddressLine1': 'Penang Flavours',\n",
      " 'AddressLine2': '146A Plumstead Rd',\n",
      " 'AddressLine3': 'London',\n",
      " 'AddressLine4': '',\n",
      " 'BusinessName': 'Penang Flavours',\n",
      " 'BusinessType': 'Restaurant/Cafe/Canteen',\n",
      " 'BusinessTypeID': 1,\n",
      " 'Distance': 4623.972328074718,\n",
      " 'LocalAuthorityCode': '511',\n",
      " 'LocalAuthorityEmailAddress': 'health@royalgreenwich.gov.uk',\n",
      " 'LocalAuthorityName': 'Greenwich',\n",
      " 'LocalAuthorityWebSite': 'http://www.royalgreenwich.gov.uk',\n",
      " 'NewRatingPending': True,\n",
      " 'Phone': '',\n",
      " 'PostCode': 'SE18 7DY',\n",
      " 'RightToReply': '',\n",
      " 'SchemeType': 'FHRS',\n",
      " '_id': ObjectId('6781ac94c8326444fa81a5c6'),\n",
      " 'geocode': {'latitude': '51.49014200', 'longitude': '0.08384000'},\n",
      " 'scores': {'ConfidenceInManagement': '', 'Hygiene': '', 'Structural': ''}}\n"
     ]
    }
   ],
   "source": [
    "if uk_food_establishments.find_one({\"BusinessName\":\"Penang Flavours\"})[\"BusinessTypeID\"] == 1:\n",
    "\n",
    "    print(\"Restaurant with BusinessName 'Penang Flavours' already had BusinessTypeID of 1\")\n",
    "\n",
    "else:\n",
    "    \n",
    "    rcc_businesstypeid = uk_food_establishments.find_one(\n",
    "        {\"BusinessType\":\"Restaurant/Cafe/Canteen\"},\n",
    "        {\"BusinessType\":1, \"BusinessTypeID\":1}\n",
    "    )\n",
    "    \n",
    "    uk_food_establishments.update_one(\n",
    "        {\"BusinessName\":\"Penang Flavours\"},\n",
    "        {\"$set\":{\"BusinessTypeID\":rcc_businesstypeid[\"BusinessTypeID\"]}}\n",
    "    )\n",
    "    pprint(uk_food_establishments.find_one({\"BusinessName\":\"Penang Flavours\"}))"
   ]
  },
  {
   "cell_type": "markdown",
   "metadata": {},
   "source": [
    "### Part 2.3: Remove establishments with LocalAuthorityName \"Dover\""
   ]
  },
  {
   "cell_type": "code",
   "execution_count": 10,
   "metadata": {},
   "outputs": [
    {
     "name": "stdout",
     "output_type": "stream",
     "text": [
      "Documents before: 994\n",
      "Documents after: 0\n"
     ]
    }
   ],
   "source": [
    "if uk_food_establishments.count_documents({\"LocalAuthorityName\":\"Dover\"}) == 0:\n",
    "\n",
    "    print(\"Restaurants with LocalAuthorityName 'Dover' were already removed\")\n",
    "\n",
    "else:\n",
    "\n",
    "    print(\"Documents before: \" + str(uk_food_establishments.count_documents({\"LocalAuthorityName\":\"Dover\"})))\n",
    "    uk_food_establishments.delete_many({\"LocalAuthorityName\":\"Dover\"})\n",
    "    print(\"Documents after: \" + str(uk_food_establishments.count_documents({\"LocalAuthorityName\":\"Dover\"})))\n"
   ]
  },
  {
   "cell_type": "markdown",
   "metadata": {},
   "source": [
    "### Part 2.4: Convert latitude, longitude, and RatingValue to numbers"
   ]
  }
 ],
 "metadata": {
  "kernelspec": {
   "display_name": "Python 3",
   "language": "python",
   "name": "python3"
  },
  "language_info": {
   "codemirror_mode": {
    "name": "ipython",
    "version": 3
   },
   "file_extension": ".py",
   "mimetype": "text/x-python",
   "name": "python",
   "nbconvert_exporter": "python",
   "pygments_lexer": "ipython3",
   "version": "3.11.4"
  }
 },
 "nbformat": 4,
 "nbformat_minor": 2
}
